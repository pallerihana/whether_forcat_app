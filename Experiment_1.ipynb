{
  "nbformat": 4,
  "nbformat_minor": 0,
  "metadata": {
    "colab": {
      "provenance": [],
      "authorship_tag": "ABX9TyP4JFqjblTPcSAmwECd/7hc",
      "include_colab_link": true
    },
    "kernelspec": {
      "name": "python3",
      "display_name": "Python 3"
    },
    "language_info": {
      "name": "python"
    }
  },
  "cells": [
    {
      "cell_type": "markdown",
      "metadata": {
        "id": "view-in-github",
        "colab_type": "text"
      },
      "source": [
        "<a href=\"https://colab.research.google.com/github/pallerihana/whether_forcat_app/blob/main/Experiment_1.ipynb\" target=\"_parent\"><img src=\"https://colab.research.google.com/assets/colab-badge.svg\" alt=\"Open In Colab\"/></a>"
      ]
    },
    {
      "cell_type": "code",
      "source": [
        "import math\n",
        "import collections\n",
        "data = [226,76,224,36,94]\n",
        "#mean\n",
        "sum = 0\n",
        "for i in data:\n",
        "  sum = (sum)+i\n",
        "mean = (sum/len(data))\n",
        "print(\"mean is : \", mean)\n",
        "\n",
        "#median   odd take exact position even take next position\n",
        "if ((len(data))%2==0):\n",
        "  odd_median = ((len(data))/2)\n",
        "  print(\"median is : \",data[int(odd_median +1)])\n",
        "else:\n",
        "  even_median = ((len(data)+1)/2)\n",
        "  print(\"median is : \",data[int(even_median)])\n",
        "#mode reapting value\n",
        "print(\"Mode : \", collections.Counter(data).most_common(1)[0][0])\n",
        "#varience and stadard deviation\n",
        "v = 0\n",
        "for i in data :\n",
        "  v = (v+i**2)\n",
        "  v_s = (v/len(data))\n",
        "print(\"Varience : \",v_s)\n",
        "print(\"Stardard deviation : \",round(math.sqrt(v_s)))\n",
        "\n"
      ],
      "metadata": {
        "colab": {
          "base_uri": "https://localhost:8080/"
        },
        "id": "XyVybfzQtoiI",
        "outputId": "3229fcd9-49c6-494f-8d9d-6cf24ad3aee2"
      },
      "execution_count": 22,
      "outputs": [
        {
          "output_type": "stream",
          "name": "stdout",
          "text": [
            "mean is :  131.2\n",
            "median is :  36\n",
            "Mode :  226\n",
            "Varience :  23432.0\n",
            "Stardard deviation :  153\n"
          ]
        }
      ]
    },
    {
      "cell_type": "code",
      "source": [
        "import numpy as ar\n",
        "from scipy import stats as r\n",
        "data = [9,43,2,532,5,62,52,87,45,9,6,5,9]\n",
        "print(ar.mean(data))\n",
        "print(ar.median(data))\n",
        "print(r.mode(data))"
      ],
      "metadata": {
        "colab": {
          "base_uri": "https://localhost:8080/"
        },
        "id": "6ziC2PMKxPhH",
        "outputId": "ffa89429-af60-471c-f2d2-56d064798c31"
      },
      "execution_count": 23,
      "outputs": [
        {
          "output_type": "stream",
          "name": "stdout",
          "text": [
            "66.61538461538461\n",
            "9.0\n",
            "ModeResult(mode=9, count=3)\n",
            "2.0551573634991898\n"
          ]
        }
      ]
    }
  ]
}