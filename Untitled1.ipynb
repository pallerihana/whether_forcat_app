{
  "nbformat": 4,
  "nbformat_minor": 0,
  "metadata": {
    "colab": {
      "provenance": [],
      "authorship_tag": "ABX9TyNRYDZPxXVXLDA5Az3CPr6J",
      "include_colab_link": true
    },
    "kernelspec": {
      "name": "python3",
      "display_name": "Python 3"
    },
    "language_info": {
      "name": "python"
    }
  },
  "cells": [
    {
      "cell_type": "markdown",
      "metadata": {
        "id": "view-in-github",
        "colab_type": "text"
      },
      "source": [
        "<a href=\"https://colab.research.google.com/github/pallerihana/whether_forcat_app/blob/main/Untitled1.ipynb\" target=\"_parent\"><img src=\"https://colab.research.google.com/assets/colab-badge.svg\" alt=\"Open In Colab\"/></a>"
      ]
    },
    {
      "cell_type": "code",
      "source": [
        "import pandas as pd\n",
        "\n",
        "data = {\n",
        "    \"name\" : [\"anil\",\"srinu\",\"surya\",\"lohith\",\"laxman\",\"jayanth\",\"bhanu\"],\n",
        "    \"marks\" : [99,56,35,48,94,67,84],\n",
        "    \"city\" : [\"vinukonda\",\"eluru\",\"ongole\",\"ongole\",\"srikakulam\",\"rajamandri\",\"ongole\"]\n",
        "}\n",
        "\n",
        "df = pd.DataFrame(data)\n",
        "\n",
        "\n",
        "\n",
        "print(\"\\n 1.name \\n 2.marks \\n 3.city \\n\")\n",
        "\n",
        "f = int(input(\"\\n Selecting the Filter : \"))\n",
        "\n",
        "if f == 1 :\n",
        "  name = input(\"\\n Enter name : \")\n",
        "  for i in data[\"name\"]:\n",
        "    if i != name:\n",
        "      print(\"User not found!\")\n",
        "      break\n",
        "    else:\n",
        "      ar =df[df[\"name\"] == name]\n",
        "      print(ar)\n",
        "      break\n",
        "\n",
        "elif f == 2:\n",
        "  marks = int(input(\"\\n Enter marks\"))\n",
        "  range = input(\"\\n Enter Rnage like below or above :\")\n",
        "  if range == \"below\" :\n",
        "    ar = df[df[\"marks\"]<marks]\n",
        "    print(ar)\n",
        "  else :\n",
        "    ar = df[df[\"marks\"] > marks]\n",
        "    print(ar)\n",
        "elif f == 3 :\n",
        "  city = input(\"\\n enter the city : \")\n",
        "  for i in data[\"city\"]:\n",
        "    if i != city:\n",
        "      print(\"city not found!\")\n",
        "      break\n",
        "    else:\n",
        "      ar =df[df[\"city\"] == city]\n",
        "      print(ar)\n",
        "      break\n",
        "else :\n",
        "  print(\"\\n Invalid!\")\n"
      ],
      "metadata": {
        "colab": {
          "base_uri": "https://localhost:8080/"
        },
        "id": "xhbi1KXj0pEf",
        "outputId": "9b6d0efd-4063-4594-b4a9-3a4dec4fa937"
      },
      "execution_count": null,
      "outputs": [
        {
          "output_type": "stream",
          "name": "stdout",
          "text": [
            "\n",
            " 1.name \n",
            " 2.marks \n",
            " 3.city \n",
            "\n"
          ]
        }
      ]
    }
  ]
}